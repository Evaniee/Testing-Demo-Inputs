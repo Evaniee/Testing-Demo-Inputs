{
 "cells": [
  {
   "cell_type": "markdown",
   "id": "000afa6e",
   "metadata": {},
   "source": [
    "# Software Testing\n",
    "When testing software you may want to use a test plan\n",
    "\n",
    "| Test Number | Purpose | Test Data | Expected Result | Actual Result | Comments |\n",
    "| - | - | - | - | - | - |\n",
    "| 1 |\n",
    "| 2 |\n",
    "| 3 |\n",
    "\n",
    "## Test Number\n",
    "Each test should have a unique identifer. This can be starting from 1 and going up for each test, or you may want to give a number to individual features and use a decimal for each test on those features (e.g. 1.1, 1.2, 2, 3.1, 3.2)\n",
    "\n",
    "## Purpose\n",
    "What is purpose of your test.\n",
    "\n",
    "## Test Data\n",
    "What is the data you are testing, **inputs** and expected **outputs**\n",
    "\n",
    "- Valid Data: Data that is expected and should work properly\n",
    "- Erroneous Data: Data that is expected to cause an error (should be properly handled, covered later)\n",
    "- Extreme Data: Data that is on the edges of a given range (min / max)\n",
    "    - Valid: Extreme data that is valid (inside the range)\n",
    "    - Invalid: Extreme data that is invalid (outside the range)\n",
    "    - Lower: Extreme data that is valid or invalid that is near the minimum extreme\n",
    "    - Upper: Extreme data that is valid or invalid that is near the maximum extreme\n",
    "\n",
    "## Expected Result\n",
    "What do you **expect** will happen when you run this test?\n",
    "\n",
    "## Actual Result\n",
    "What actually happened when you ran the test? Was it what you expected?\n",
    "\n",
    "## Comments\n",
    "Any additional comments about the test. This may talk about how a passing test originally failed and why or a specific reason why a test isnt working. (Ideally all tests should pass at the end)."
   ]
  },
  {
   "cell_type": "markdown",
   "id": "0ed58ea9",
   "metadata": {},
   "source": [
    "# Test Plan\n",
    "| Test Number | Purpose | Test Data | Expected Result | Actual Result | Comments |\n",
    "| - | - | - | - | - | - |\n",
    "| 1 | Test if the code works with a **valid** number | `50` | `50` is printed | As expected. `50` was printed. |\n",
    "| 2 | Test if the code works with a **invalid** value (string) | `\"Test\"` | Input rejected and user is asked again | Program crashes due to value error | (How can we fix this? / What went wrong originally) |\n",
    "| 3 | Test if the code works with a **invalid** value (float) | `20.5` | Input rejected and user is asked again | Program crashes due to value error | (How can we fix this? / What went wrong originally) |\n",
    "| 4 | Test if the code works with a **valid lower extreme** | `10` | `10` is printed | As expected. `10` was printed. |\n",
    "| 5 | Test if the code works with a **valid upper extreme** | `99` | `99` is printed | As expected. `99` was printed. |\n",
    "| 6 | Test if the code works with a **invalid lower extreme** | `9` | Input rejected and user is asked again | Did not work as expected. `9` was printed. | (How can we fix this? / What went wrong originally) |\n",
    "| 7 | Test if the code works with a **invalid upper extreme** | `100` | Input rejected and user is asked again | Did not work as expected. `100` was printed. | (How can we fix this? / What went wrong originally) |"
   ]
  },
  {
   "cell_type": "code",
   "execution_count": null,
   "id": "c1bc6fcc",
   "metadata": {},
   "outputs": [],
   "source": [
    "# Test the follow program with the data above\n",
    "user_input = int(input(\"Enter an integer between 10 and 99: \"))\n",
    "print(user_input)"
   ]
  },
  {
   "cell_type": "markdown",
   "id": "79298bd8",
   "metadata": {},
   "source": [
    "## Extension Task\n",
    "Think back to the validation you did in earlier lessons. What tests would you need to make sure the validation is working properly?\n",
    "Write a test plan to check your validation. When you have implemented your validation you can complete the test plan."
   ]
  }
 ],
 "metadata": {
  "kernelspec": {
   "display_name": "Python 3",
   "language": "python",
   "name": "python3"
  },
  "language_info": {
   "codemirror_mode": {
    "name": "ipython",
    "version": 3
   },
   "file_extension": ".py",
   "mimetype": "text/x-python",
   "name": "python",
   "nbconvert_exporter": "python",
   "pygments_lexer": "ipython3",
   "version": "3.13.3"
  }
 },
 "nbformat": 4,
 "nbformat_minor": 5
}
